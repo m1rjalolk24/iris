{
 "cells": [
  {
   "cell_type": "code",
   "execution_count": 1,
   "id": "e5af2e86",
   "metadata": {
    "_cell_guid": "b1076dfc-b9ad-4769-8c92-a6c4dae69d19",
    "_uuid": "8f2839f25d086af736a60e9eeb907d3b93b6e0e5",
    "execution": {
     "iopub.execute_input": "2024-06-04T10:43:35.791489Z",
     "iopub.status.busy": "2024-06-04T10:43:35.791048Z",
     "iopub.status.idle": "2024-06-04T10:43:36.723654Z",
     "shell.execute_reply": "2024-06-04T10:43:36.722152Z"
    },
    "papermill": {
     "duration": 0.941033,
     "end_time": "2024-06-04T10:43:36.726061",
     "exception": false,
     "start_time": "2024-06-04T10:43:35.785028",
     "status": "completed"
    },
    "tags": []
   },
   "outputs": [
    {
     "name": "stdout",
     "output_type": "stream",
     "text": [
      "/kaggle/input/billboard-hits-songs-dataset/Iconic_Songs_Dataset.csv\n"
     ]
    }
   ],
   "source": [
    "# This Python 3 environment comes with many helpful analytics libraries installed\n",
    "# It is defined by the kaggle/python Docker image: https://github.com/kaggle/docker-python\n",
    "# For example, here's several helpful packages to load\n",
    "\n",
    "import numpy as np # linear algebra\n",
    "import pandas as pd # data processing, CSV file I/O (e.g. pd.read_csv)\n",
    "\n",
    "# Input data files are available in the read-only \"../input/\" directory\n",
    "# For example, running this (by clicking run or pressing Shift+Enter) will list all files under the input directory\n",
    "\n",
    "import os\n",
    "for dirname, _, filenames in os.walk('/kaggle/input'):\n",
    "    for filename in filenames:\n",
    "        print(os.path.join(dirname, filename))\n",
    "\n",
    "# You can write up to 20GB to the current directory (/kaggle/working/) that gets preserved as output when you create a version using \"Save & Run All\" \n",
    "# You can also write temporary files to /kaggle/temp/, but they won't be saved outside of the current session"
   ]
  },
  {
   "cell_type": "code",
   "execution_count": 2,
   "id": "5d145115",
   "metadata": {
    "execution": {
     "iopub.execute_input": "2024-06-04T10:43:36.736080Z",
     "iopub.status.busy": "2024-06-04T10:43:36.735577Z",
     "iopub.status.idle": "2024-06-04T10:43:36.775161Z",
     "shell.execute_reply": "2024-06-04T10:43:36.774106Z"
    },
    "papermill": {
     "duration": 0.047309,
     "end_time": "2024-06-04T10:43:36.777641",
     "exception": false,
     "start_time": "2024-06-04T10:43:36.730332",
     "status": "completed"
    },
    "tags": []
   },
   "outputs": [
    {
     "data": {
      "text/html": [
       "<div>\n",
       "<style scoped>\n",
       "    .dataframe tbody tr th:only-of-type {\n",
       "        vertical-align: middle;\n",
       "    }\n",
       "\n",
       "    .dataframe tbody tr th {\n",
       "        vertical-align: top;\n",
       "    }\n",
       "\n",
       "    .dataframe thead th {\n",
       "        text-align: right;\n",
       "    }\n",
       "</style>\n",
       "<table border=\"1\" class=\"dataframe\">\n",
       "  <thead>\n",
       "    <tr style=\"text-align: right;\">\n",
       "      <th></th>\n",
       "      <th>Title</th>\n",
       "      <th>Artist</th>\n",
       "      <th>Genre</th>\n",
       "      <th>ReleaseDate</th>\n",
       "      <th>Duration</th>\n",
       "      <th>Album</th>\n",
       "      <th>Popularity</th>\n",
       "    </tr>\n",
       "  </thead>\n",
       "  <tbody>\n",
       "    <tr>\n",
       "      <th>0</th>\n",
       "      <td>Blinding Lights</td>\n",
       "      <td>The Weeknd</td>\n",
       "      <td>Pop</td>\n",
       "      <td>2024-01-05</td>\n",
       "      <td>3:22</td>\n",
       "      <td>After Hours</td>\n",
       "      <td>95</td>\n",
       "    </tr>\n",
       "    <tr>\n",
       "      <th>1</th>\n",
       "      <td>Levitating</td>\n",
       "      <td>Dua Lipa</td>\n",
       "      <td>Pop</td>\n",
       "      <td>2024-01-14</td>\n",
       "      <td>3:23</td>\n",
       "      <td>Future Nostalgia</td>\n",
       "      <td>93</td>\n",
       "    </tr>\n",
       "    <tr>\n",
       "      <th>2</th>\n",
       "      <td>Peaches</td>\n",
       "      <td>Justin Bieber ft. Daniel Caesar &amp; Giveon</td>\n",
       "      <td>Pop</td>\n",
       "      <td>2024-02-12</td>\n",
       "      <td>3:18</td>\n",
       "      <td>Justice</td>\n",
       "      <td>91</td>\n",
       "    </tr>\n",
       "    <tr>\n",
       "      <th>3</th>\n",
       "      <td>Save Your Tears</td>\n",
       "      <td>The Weeknd</td>\n",
       "      <td>Pop</td>\n",
       "      <td>2024-02-18</td>\n",
       "      <td>3:36</td>\n",
       "      <td>After Hours</td>\n",
       "      <td>92</td>\n",
       "    </tr>\n",
       "    <tr>\n",
       "      <th>4</th>\n",
       "      <td>Good 4 U</td>\n",
       "      <td>Olivia Rodrigo</td>\n",
       "      <td>Pop</td>\n",
       "      <td>2024-03-05</td>\n",
       "      <td>2:58</td>\n",
       "      <td>SOUR</td>\n",
       "      <td>94</td>\n",
       "    </tr>\n",
       "  </tbody>\n",
       "</table>\n",
       "</div>"
      ],
      "text/plain": [
       "             Title                                    Artist Genre  \\\n",
       "0  Blinding Lights                                The Weeknd   Pop   \n",
       "1       Levitating                                  Dua Lipa   Pop   \n",
       "2          Peaches  Justin Bieber ft. Daniel Caesar & Giveon   Pop   \n",
       "3  Save Your Tears                                The Weeknd   Pop   \n",
       "4         Good 4 U                            Olivia Rodrigo   Pop   \n",
       "\n",
       "  ReleaseDate Duration             Album  Popularity  \n",
       "0  2024-01-05     3:22       After Hours          95  \n",
       "1  2024-01-14     3:23  Future Nostalgia          93  \n",
       "2  2024-02-12     3:18           Justice          91  \n",
       "3  2024-02-18     3:36       After Hours          92  \n",
       "4  2024-03-05     2:58              SOUR          94  "
      ]
     },
     "execution_count": 2,
     "metadata": {},
     "output_type": "execute_result"
    }
   ],
   "source": [
    "df = pd.read_csv('/kaggle/input/billboard-hits-songs-dataset/Iconic_Songs_Dataset.csv')\n",
    "df.head()"
   ]
  },
  {
   "cell_type": "code",
   "execution_count": 3,
   "id": "4be45a3c",
   "metadata": {
    "execution": {
     "iopub.execute_input": "2024-06-04T10:43:36.787750Z",
     "iopub.status.busy": "2024-06-04T10:43:36.787344Z",
     "iopub.status.idle": "2024-06-04T10:43:36.794286Z",
     "shell.execute_reply": "2024-06-04T10:43:36.793096Z"
    },
    "papermill": {
     "duration": 0.014879,
     "end_time": "2024-06-04T10:43:36.796695",
     "exception": false,
     "start_time": "2024-06-04T10:43:36.781816",
     "status": "completed"
    },
    "tags": []
   },
   "outputs": [
    {
     "data": {
      "text/plain": [
       "(100, 7)"
      ]
     },
     "execution_count": 3,
     "metadata": {},
     "output_type": "execute_result"
    }
   ],
   "source": [
    "df.shape"
   ]
  },
  {
   "cell_type": "code",
   "execution_count": 4,
   "id": "07208854",
   "metadata": {
    "execution": {
     "iopub.execute_input": "2024-06-04T10:43:36.807624Z",
     "iopub.status.busy": "2024-06-04T10:43:36.807235Z",
     "iopub.status.idle": "2024-06-04T10:43:36.818213Z",
     "shell.execute_reply": "2024-06-04T10:43:36.817103Z"
    },
    "papermill": {
     "duration": 0.019363,
     "end_time": "2024-06-04T10:43:36.820823",
     "exception": false,
     "start_time": "2024-06-04T10:43:36.801460",
     "status": "completed"
    },
    "tags": []
   },
   "outputs": [
    {
     "data": {
      "text/plain": [
       "Title          0\n",
       "Artist         0\n",
       "Genre          0\n",
       "ReleaseDate    0\n",
       "Duration       0\n",
       "Album          2\n",
       "Popularity     0\n",
       "dtype: int64"
      ]
     },
     "execution_count": 4,
     "metadata": {},
     "output_type": "execute_result"
    }
   ],
   "source": [
    "df.isna().sum()"
   ]
  },
  {
   "cell_type": "code",
   "execution_count": 5,
   "id": "e9e1c6e9",
   "metadata": {
    "execution": {
     "iopub.execute_input": "2024-06-04T10:43:36.832309Z",
     "iopub.status.busy": "2024-06-04T10:43:36.831920Z",
     "iopub.status.idle": "2024-06-04T10:43:36.840138Z",
     "shell.execute_reply": "2024-06-04T10:43:36.839134Z"
    },
    "papermill": {
     "duration": 0.01668,
     "end_time": "2024-06-04T10:43:36.842492",
     "exception": false,
     "start_time": "2024-06-04T10:43:36.825812",
     "status": "completed"
    },
    "tags": []
   },
   "outputs": [
    {
     "data": {
      "text/plain": [
       "array(['After Hours', 'Future Nostalgia', 'Justice', 'SOUR',\n",
       "       'F*CK LOVE 3: OVER YOU', 'Planet Her', 'Montero', 'Butter',\n",
       "       'Happier Than Ever', '=', '30', 'Dawn FM', 'Music of the Spheres',\n",
       "       'Seven Shades of Heartbreak', 'The Lockdown Sessions', 'Dreamland',\n",
       "       'CKay the First', 'Country Stuff', 'Made in Lagos', 'Starboy',\n",
       "       'evermore', 'Positions', \"Hollywood's Bleeding\", 'BE', 'Fine Line',\n",
       "       'Slime & B', nan, 'Divinely Uninspired To A Hellish Extent',\n",
       "       'While The World Was Burning', 'Scary Hours 2',\n",
       "       'Pretty Bitch Music', 'Shoot for the Stars Aim for the Moon',\n",
       "       'Certified Lover Boy', 'Jordi', 'Chromatica',\n",
       "       \"When It's All Said and Done\", 'Certified Hitmaker',\n",
       "       'Cuz I Love You', 'ROXANNE', 'Hot Pink', '7 EP', 'Shawn Mendes',\n",
       "       'Fever', 'Happiness Begins', 'Indigo', 'Melt',\n",
       "       'Marshmello: Fortnite Extended Set', 'Manic',\n",
       "       'Friends Keep Secrets', 'Goodbye & Good Riddance', 'Mudboy',\n",
       "       'Astroworld', 'Invasion of Privacy', 'Beerbongs & Bentleys',\n",
       "       'Scorpion', 'Red Pill Blues', 'Thank U, Next', 'Dying to Live',\n",
       "       'A Star Is Born', 'Heaven & Hell', 'Nan', 'Uptown Special',\n",
       "       'Pray for the Wicked', 'Electricity', 'Vibras', 'Carte Blanche',\n",
       "       'Con Calma'], dtype=object)"
      ]
     },
     "execution_count": 5,
     "metadata": {},
     "output_type": "execute_result"
    }
   ],
   "source": [
    "df['Album'].unique()"
   ]
  },
  {
   "cell_type": "code",
   "execution_count": 6,
   "id": "021b0fe5",
   "metadata": {
    "execution": {
     "iopub.execute_input": "2024-06-04T10:43:36.854477Z",
     "iopub.status.busy": "2024-06-04T10:43:36.853267Z",
     "iopub.status.idle": "2024-06-04T10:43:36.867762Z",
     "shell.execute_reply": "2024-06-04T10:43:36.866694Z"
    },
    "papermill": {
     "duration": 0.023054,
     "end_time": "2024-06-04T10:43:36.870284",
     "exception": false,
     "start_time": "2024-06-04T10:43:36.847230",
     "status": "completed"
    },
    "tags": []
   },
   "outputs": [
    {
     "name": "stdout",
     "output_type": "stream",
     "text": [
      "           Title                         Artist Genre ReleaseDate Duration  \\\n",
      "40  Stuck with U  Ariana Grande & Justin Bieber   Pop  2024-03-10     3:48   \n",
      "56   Savage Love       Jawsh 685 & Jason Derulo   Pop  2024-05-30     2:51   \n",
      "\n",
      "   Album  Popularity  \n",
      "40   NaN          86  \n",
      "56   NaN          92  \n"
     ]
    }
   ],
   "source": [
    "null_mask = df.isnull().any(axis=1)\n",
    "null_rows = df[null_mask]\n",
    "print(null_rows)"
   ]
  },
  {
   "cell_type": "code",
   "execution_count": 7,
   "id": "e4144cc9",
   "metadata": {
    "execution": {
     "iopub.execute_input": "2024-06-04T10:43:36.881329Z",
     "iopub.status.busy": "2024-06-04T10:43:36.880946Z",
     "iopub.status.idle": "2024-06-04T10:43:36.893769Z",
     "shell.execute_reply": "2024-06-04T10:43:36.891980Z"
    },
    "papermill": {
     "duration": 0.021456,
     "end_time": "2024-06-04T10:43:36.896494",
     "exception": false,
     "start_time": "2024-06-04T10:43:36.875038",
     "status": "completed"
    },
    "tags": []
   },
   "outputs": [
    {
     "name": "stderr",
     "output_type": "stream",
     "text": [
      "/tmp/ipykernel_18/1723460267.py:1: FutureWarning: A value is trying to be set on a copy of a DataFrame or Series through chained assignment using an inplace method.\n",
      "The behavior will change in pandas 3.0. This inplace method will never work because the intermediate object on which we are setting values always behaves as a copy.\n",
      "\n",
      "For example, when doing 'df[col].method(value, inplace=True)', try using 'df.method({col: value}, inplace=True)' or df[col] = df[col].method(value) instead, to perform the operation inplace on the original object.\n",
      "\n",
      "\n",
      "  df['Album'].fillna('single', inplace=True)\n"
     ]
    },
    {
     "data": {
      "text/plain": [
       "Title                           Stuck with U\n",
       "Artist         Ariana Grande & Justin Bieber\n",
       "Genre                                    Pop\n",
       "ReleaseDate                       2024-03-10\n",
       "Duration                                3:48\n",
       "Album                                 single\n",
       "Popularity                                86\n",
       "Name: 40, dtype: object"
      ]
     },
     "execution_count": 7,
     "metadata": {},
     "output_type": "execute_result"
    }
   ],
   "source": [
    "df['Album'].fillna('single', inplace=True)\n",
    "df.loc[40]"
   ]
  },
  {
   "cell_type": "code",
   "execution_count": 8,
   "id": "f5b129f1",
   "metadata": {
    "execution": {
     "iopub.execute_input": "2024-06-04T10:43:36.908974Z",
     "iopub.status.busy": "2024-06-04T10:43:36.908482Z",
     "iopub.status.idle": "2024-06-04T10:43:36.927299Z",
     "shell.execute_reply": "2024-06-04T10:43:36.926235Z"
    },
    "papermill": {
     "duration": 0.028275,
     "end_time": "2024-06-04T10:43:36.929715",
     "exception": false,
     "start_time": "2024-06-04T10:43:36.901440",
     "status": "completed"
    },
    "tags": []
   },
   "outputs": [
    {
     "data": {
      "text/html": [
       "<div>\n",
       "<style scoped>\n",
       "    .dataframe tbody tr th:only-of-type {\n",
       "        vertical-align: middle;\n",
       "    }\n",
       "\n",
       "    .dataframe tbody tr th {\n",
       "        vertical-align: top;\n",
       "    }\n",
       "\n",
       "    .dataframe thead th {\n",
       "        text-align: right;\n",
       "    }\n",
       "</style>\n",
       "<table border=\"1\" class=\"dataframe\">\n",
       "  <thead>\n",
       "    <tr style=\"text-align: right;\">\n",
       "      <th></th>\n",
       "      <th>Popularity</th>\n",
       "    </tr>\n",
       "  </thead>\n",
       "  <tbody>\n",
       "    <tr>\n",
       "      <th>count</th>\n",
       "      <td>100.000000</td>\n",
       "    </tr>\n",
       "    <tr>\n",
       "      <th>mean</th>\n",
       "      <td>91.710000</td>\n",
       "    </tr>\n",
       "    <tr>\n",
       "      <th>std</th>\n",
       "      <td>3.806679</td>\n",
       "    </tr>\n",
       "    <tr>\n",
       "      <th>min</th>\n",
       "      <td>84.000000</td>\n",
       "    </tr>\n",
       "    <tr>\n",
       "      <th>25%</th>\n",
       "      <td>89.000000</td>\n",
       "    </tr>\n",
       "    <tr>\n",
       "      <th>50%</th>\n",
       "      <td>92.000000</td>\n",
       "    </tr>\n",
       "    <tr>\n",
       "      <th>75%</th>\n",
       "      <td>95.000000</td>\n",
       "    </tr>\n",
       "    <tr>\n",
       "      <th>max</th>\n",
       "      <td>99.000000</td>\n",
       "    </tr>\n",
       "  </tbody>\n",
       "</table>\n",
       "</div>"
      ],
      "text/plain": [
       "       Popularity\n",
       "count  100.000000\n",
       "mean    91.710000\n",
       "std      3.806679\n",
       "min     84.000000\n",
       "25%     89.000000\n",
       "50%     92.000000\n",
       "75%     95.000000\n",
       "max     99.000000"
      ]
     },
     "execution_count": 8,
     "metadata": {},
     "output_type": "execute_result"
    }
   ],
   "source": [
    "df.describe()"
   ]
  },
  {
   "cell_type": "code",
   "execution_count": 9,
   "id": "a21a0345",
   "metadata": {
    "execution": {
     "iopub.execute_input": "2024-06-04T10:43:36.942491Z",
     "iopub.status.busy": "2024-06-04T10:43:36.941789Z",
     "iopub.status.idle": "2024-06-04T10:43:36.951907Z",
     "shell.execute_reply": "2024-06-04T10:43:36.950738Z"
    },
    "papermill": {
     "duration": 0.019069,
     "end_time": "2024-06-04T10:43:36.954463",
     "exception": false,
     "start_time": "2024-06-04T10:43:36.935394",
     "status": "completed"
    },
    "tags": []
   },
   "outputs": [
    {
     "data": {
      "text/plain": [
       "69"
      ]
     },
     "execution_count": 9,
     "metadata": {},
     "output_type": "execute_result"
    }
   ],
   "source": [
    "# Number of unique artists\n",
    "df[\"Artist\"].nunique()"
   ]
  },
  {
   "cell_type": "code",
   "execution_count": 10,
   "id": "5a321b37",
   "metadata": {
    "execution": {
     "iopub.execute_input": "2024-06-04T10:43:36.967353Z",
     "iopub.status.busy": "2024-06-04T10:43:36.966990Z",
     "iopub.status.idle": "2024-06-04T10:43:36.977630Z",
     "shell.execute_reply": "2024-06-04T10:43:36.976261Z"
    },
    "papermill": {
     "duration": 0.019994,
     "end_time": "2024-06-04T10:43:36.979990",
     "exception": false,
     "start_time": "2024-06-04T10:43:36.959996",
     "status": "completed"
    },
    "tags": []
   },
   "outputs": [
    {
     "name": "stdout",
     "output_type": "stream",
     "text": [
      "Genre\n",
      "Pop           59\n",
      "Hip-Hop       26\n",
      "Reggaeton      4\n",
      "K-Pop          3\n",
      "R&B            3\n",
      "Afrobeats      2\n",
      "Country        1\n",
      "Dance          1\n",
      "Electronic     1\n",
      "Name: count, dtype: int64\n"
     ]
    }
   ],
   "source": [
    "# Number of songs in each genre\n",
    "genre_counts = df[\"Genre\"].value_counts()\n",
    "print(genre_counts)"
   ]
  },
  {
   "cell_type": "code",
   "execution_count": 11,
   "id": "1bc04302",
   "metadata": {
    "execution": {
     "iopub.execute_input": "2024-06-04T10:43:36.992783Z",
     "iopub.status.busy": "2024-06-04T10:43:36.991874Z",
     "iopub.status.idle": "2024-06-04T10:43:37.304261Z",
     "shell.execute_reply": "2024-06-04T10:43:37.302986Z"
    },
    "papermill": {
     "duration": 0.321578,
     "end_time": "2024-06-04T10:43:37.306799",
     "exception": false,
     "start_time": "2024-06-04T10:43:36.985221",
     "status": "completed"
    },
    "tags": []
   },
   "outputs": [
    {
     "data": {
      "image/png": "[encoded data removed]",
      "text/plain": [
       "<Figure size 1200x500 with 1 Axes>"
      ]
     },
     "metadata": {},
     "output_type": "display_data"
    }
   ],
   "source": [
    "import matplotlib.pyplot as plt\n",
    "\n",
    "plt.figure(figsize=(12, 5))\n",
    "genre_counts.plot(kind=\"bar\")\n",
    "plt.title(\"Genres\")\n",
    "plt.xlabel(\"Genre\")\n",
    "plt.ylabel(\"Number of Songs\")\n",
    "plt.xticks(rotation=45)\n",
    "plt.show()"
   ]
  },
  {
   "cell_type": "code",
   "execution_count": 12,
   "id": "7b53a9ef",
   "metadata": {
    "execution": {
     "iopub.execute_input": "2024-06-04T10:43:37.321115Z",
     "iopub.status.busy": "2024-06-04T10:43:37.320017Z",
     "iopub.status.idle": "2024-06-04T10:43:37.325571Z",
     "shell.execute_reply": "2024-06-04T10:43:37.323948Z"
    },
    "papermill": {
     "duration": 0.016034,
     "end_time": "2024-06-04T10:43:37.328719",
     "exception": false,
     "start_time": "2024-06-04T10:43:37.312685",
     "status": "completed"
    },
    "tags": []
   },
   "outputs": [],
   "source": [
    "#link to the dataset\n",
    "#https://www.kaggle.com/datasets/dem0nking/billboard-hits-songs-dataset/data"
   ]
  },
  {
   "cell_type": "code",
   "execution_count": null,
   "id": "48053ebc",
   "metadata": {
    "papermill": {
     "duration": 0.005571,
     "end_time": "2024-06-04T10:43:37.340196",
     "exception": false,
     "start_time": "2024-06-04T10:43:37.334625",
     "status": "completed"
    },
    "tags": []
   },
   "outputs": [],
   "source": []
  }
 ],
 "metadata": {
  "kaggle": {
   "accelerator": "none",
   "dataSources": [
    {
     "datasetId": 5076205,
     "sourceId": 8505076,
     "sourceType": "datasetVersion"
    }
   ],
   "dockerImageVersionId": 30715,
   "isGpuEnabled": false,
   "isInternetEnabled": true,
   "language": "python",
   "sourceType": "notebook"
  },
  "kernelspec": {
   "display_name": "Python 3",
   "language": "python",
   "name": "python3"
  },
  "language_info": {
   "codemirror_mode": {
    "name": "ipython",
    "version": 3
   },
   "file_extension": ".py",
   "mimetype": "text/x-python",
   "name": "python",
   "nbconvert_exporter": "python",
   "pygments_lexer": "ipython3",
   "version": "3.10.13"
  },
  "papermill": {
   "default_parameters": {},
   "duration": 4.881052,
   "end_time": "2024-06-04T10:43:37.867320",
   "environment_variables": {},
   "exception": null,
   "input_path": "__notebook__.ipynb",
   "output_path": "__notebook__.ipynb",
   "parameters": {},
   "start_time": "2024-06-04T10:43:32.986268",
   "version": "2.5.0"
  }
 },
 "nbformat": 4,
 "nbformat_minor": 5
}
